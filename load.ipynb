{
 "cells": [
  {
   "cell_type": "code",
   "execution_count": 11,
   "metadata": {},
   "outputs": [],
   "source": [
    "from dotenv import load_dotenv\n",
    "load_dotenv()\n",
    "import os\n",
    "from openai import OpenAI\n",
    "import pinecone\n",
    "from pinecone import Pinecone, ServerlessSpec"
   ]
  },
  {
   "cell_type": "code",
   "execution_count": 6,
   "metadata": {},
   "outputs": [],
   "source": [
    "pinecone = Pinecone(api_key=os.getenv(\"PINECONE_API_KEY\"))\n",
    "pinecone.create_index(\n",
    "    name=\"rag\",dimension=1536, metric=\"cosine\",spec=ServerlessSpec(cloud=\"aws\", region=\"us-east-1\")\n",
    ")"
   ]
  },
  {
   "cell_type": "code",
   "execution_count": 9,
   "metadata": {},
   "outputs": [
    {
     "data": {
      "text/plain": [
       "[{'id': 1,\n",
       "  'professorName': 'Dr. Smith',\n",
       "  'course': 'Introduction to Psychology',\n",
       "  'rating': 4.5,\n",
       "  'date': '2024-03-15',\n",
       "  'comment': 'Dr. Smith is an excellent lecturer. The course material was challenging but presented in an engaging way.'},\n",
       " {'id': 2,\n",
       "  'professorName': 'Prof. Johnson',\n",
       "  'course': 'Advanced Calculus',\n",
       "  'rating': 3.8,\n",
       "  'date': '2024-02-28',\n",
       "  'comment': 'Prof. Johnson knows the subject well, but sometimes struggles to explain complex concepts clearly.'},\n",
       " {'id': 3,\n",
       "  'professorName': 'Dr. Lee',\n",
       "  'course': 'World History',\n",
       "  'rating': 4.9,\n",
       "  'date': '2024-04-02',\n",
       "  'comment': \"Dr. Lee's passion for history is contagious. The class discussions were always thought-provoking.\"},\n",
       " {'id': 4,\n",
       "  'professorName': 'Prof. Garcia',\n",
       "  'course': 'Organic Chemistry',\n",
       "  'rating': 3.2,\n",
       "  'date': '2024-03-20',\n",
       "  'comment': \"The course was very difficult, and Prof. Garcia's teaching style didn't help much. More office hours would be appreciated.\"},\n",
       " {'id': 5,\n",
       "  'professorName': 'Dr. Patel',\n",
       "  'course': 'Introduction to Computer Science',\n",
       "  'rating': 4.7,\n",
       "  'date': '2024-04-10',\n",
       "  'comment': 'Dr. Patel makes programming fun and accessible. Great projects and hands-on learning experiences.'},\n",
       " {'id': 6,\n",
       "  'professorName': 'Prof. Anderson',\n",
       "  'course': 'Environmental Science',\n",
       "  'rating': 4.2,\n",
       "  'date': '2024-03-25',\n",
       "  'comment': \"Prof. Anderson's field trips really brought the subject to life. Assignments were relevant and interesting.\"},\n",
       " {'id': 7,\n",
       "  'professorName': 'Dr. Nguyen',\n",
       "  'course': 'Quantum Physics',\n",
       "  'rating': 4.6,\n",
       "  'date': '2024-04-05',\n",
       "  'comment': 'Dr. Nguyen has a gift for explaining complex theories. Challenging but rewarding course.'},\n",
       " {'id': 8,\n",
       "  'professorName': 'Prof. Williams',\n",
       "  'course': 'Marketing Strategy',\n",
       "  'rating': 3.9,\n",
       "  'date': '2024-03-12',\n",
       "  'comment': 'Prof. Williams brings real-world experience to the classroom. Some lectures were a bit disorganized.'},\n",
       " {'id': 9,\n",
       "  'professorName': 'Dr. Brown',\n",
       "  'course': 'Renaissance Literature',\n",
       "  'rating': 4.8,\n",
       "  'date': '2024-04-18',\n",
       "  'comment': \"Dr. Brown's enthusiasm for the subject is infectious. Insightful analysis and engaging discussions.\"},\n",
       " {'id': 10,\n",
       "  'professorName': 'Prof. Martinez',\n",
       "  'course': 'Macroeconomics',\n",
       "  'rating': 3.5,\n",
       "  'date': '2024-03-30',\n",
       "  'comment': 'Prof. Martinez covers the material thoroughly, but the pace can be overwhelming at times.'},\n",
       " {'id': 11,\n",
       "  'professorName': 'Dr. Taylor',\n",
       "  'course': 'Human Anatomy',\n",
       "  'rating': 4.4,\n",
       "  'date': '2024-04-22',\n",
       "  'comment': \"Dr. Taylor's interactive lab sessions were incredibly helpful. Clear explanations and patient with questions.\"},\n",
       " {'id': 12,\n",
       "  'professorName': 'Prof. Chang',\n",
       "  'course': 'International Relations',\n",
       "  'rating': 4.1,\n",
       "  'date': '2024-03-08',\n",
       "  'comment': 'Prof. Chang offers balanced perspectives on global issues. Assignments encourage critical thinking.'},\n",
       " {'id': 13,\n",
       "  'professorName': 'Dr. Roberts',\n",
       "  'course': 'Artificial Intelligence',\n",
       "  'rating': 4.7,\n",
       "  'date': '2024-04-15',\n",
       "  'comment': 'Dr. Roberts is at the forefront of AI research. Challenging projects, but great learning experience.'},\n",
       " {'id': 14,\n",
       "  'professorName': 'Prof. Kim',\n",
       "  'course': 'Modern Art History',\n",
       "  'rating': 4.3,\n",
       "  'date': '2024-03-22',\n",
       "  'comment': \"Prof. Kim's visual presentations are excellent. Could improve on providing more context for certain periods.\"},\n",
       " {'id': 15,\n",
       "  'professorName': 'Dr. Davis',\n",
       "  'course': 'Molecular Biology',\n",
       "  'rating': 3.7,\n",
       "  'date': '2024-04-08',\n",
       "  'comment': 'Dr. Davis is knowledgeable, but the course felt rushed. More time for lab work would be beneficial.'},\n",
       " {'id': 16,\n",
       "  'professorName': 'Prof. Wilson',\n",
       "  'course': 'Financial Accounting',\n",
       "  'rating': 4.0,\n",
       "  'date': '2024-03-18',\n",
       "  'comment': 'Prof. Wilson explains concepts clearly. Homework can be repetitive, but it reinforces the material well.'},\n",
       " {'id': 17,\n",
       "  'professorName': 'Dr. Lopez',\n",
       "  'course': 'Cognitive Psychology',\n",
       "  'rating': 4.6,\n",
       "  'date': '2024-04-25',\n",
       "  'comment': \"Dr. Lopez's research-based approach is refreshing. Interesting experiments and thought-provoking lectures.\"},\n",
       " {'id': 18,\n",
       "  'professorName': 'Prof. Harris',\n",
       "  'course': 'Constitutional Law',\n",
       "  'rating': 4.2,\n",
       "  'date': '2024-03-05',\n",
       "  'comment': 'Prof. Harris brings the law to life with real case studies. Demanding but fair in assessments.'},\n",
       " {'id': 19,\n",
       "  'professorName': 'Dr. Murphy',\n",
       "  'course': 'Astrophysics',\n",
       "  'rating': 4.8,\n",
       "  'date': '2024-04-20',\n",
       "  'comment': \"Dr. Murphy's passion for space is out of this world. Complex topics explained with clarity and enthusiasm.\"},\n",
       " {'id': 20,\n",
       "  'professorName': 'Prof. Foster',\n",
       "  'course': 'Digital Marketing',\n",
       "  'rating': 3.9,\n",
       "  'date': '2024-03-28',\n",
       "  'comment': 'Prof. Foster incorporates current trends well. More hands-on projects would enhance the learning experience.'}]"
      ]
     },
     "execution_count": 9,
     "metadata": {},
     "output_type": "execute_result"
    }
   ],
   "source": [
    "import json\n",
    "file = open(\"reviews.json\", \"r\")\n",
    "data=json.load(file)\n",
    "data[\"reviews\"]\n"
   ]
  },
  {
   "cell_type": "code",
   "execution_count": 16,
   "metadata": {},
   "outputs": [],
   "source": [
    "processed_data=[]\n",
    "client=OpenAI()\n",
    "\n",
    "for review in data[\"reviews\"]:\n",
    "    response = client.embeddings.create(\n",
    "        input=review[\"comment\"],\n",
    "        model=\"text-embedding-3-small\",\n",
    "    )\n",
    "    embedding=response.data[0].embedding\n",
    "    processed_data.append({\n",
    "        \"values\": embedding,\n",
    "        \"id\": review[\"professorName\"],\n",
    "        \"metadata\":{\n",
    "            \"review\":review[\"comment\"],\n",
    "            \"subject\":review[\"course\"],\n",
    "            \"stars\":review[\"rating\"]\n",
    "        }\n",
    "    })\n"
   ]
  },
  {
   "cell_type": "code",
   "execution_count": 22,
   "metadata": {},
   "outputs": [
    {
     "data": {
      "text/plain": [
       "{'upserted_count': 20}"
      ]
     },
     "execution_count": 22,
     "metadata": {},
     "output_type": "execute_result"
    }
   ],
   "source": [
    "pinecone = Pinecone(api_key=os.getenv(\"PINECONE_API_KEY\"))\n",
    "index = pinecone.Index(\"rag\")\n",
    "index.upsert(\n",
    "    vectors=processed_data,\n",
    "    namespace=\"ms1\"\n",
    ")"
   ]
  },
  {
   "cell_type": "code",
   "execution_count": null,
   "metadata": {},
   "outputs": [],
   "source": [
    "index.describe_index_stats()"
   ]
  }
 ],
 "metadata": {
  "kernelspec": {
   "display_name": "rag",
   "language": "python",
   "name": "python3"
  },
  "language_info": {
   "codemirror_mode": {
    "name": "ipython",
    "version": 3
   },
   "file_extension": ".py",
   "mimetype": "text/x-python",
   "name": "python",
   "nbconvert_exporter": "python",
   "pygments_lexer": "ipython3",
   "version": "3.10.4"
  }
 },
 "nbformat": 4,
 "nbformat_minor": 2
}
